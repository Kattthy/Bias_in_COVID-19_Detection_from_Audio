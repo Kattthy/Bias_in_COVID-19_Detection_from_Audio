{
 "cells": [
  {
   "cell_type": "markdown",
   "id": "dce29335-edd1-4496-94c7-187e0ed644b7",
   "metadata": {},
   "source": [
    "## Data Preprocessing"
   ]
  },
  {
   "cell_type": "markdown",
   "id": "4cb6cc07-9700-47ae-8e88-f42bfeb5078e",
   "metadata": {},
   "source": [
    "Explore the metadata file. Preprocess the dataset to be balanced (COVID-19 vs Healthy vs Symptomatic)."
   ]
  },
  {
   "cell_type": "code",
   "execution_count": 1,
   "id": "89d2c8f2-3716-462f-afe5-e64fcedac6db",
   "metadata": {},
   "outputs": [],
   "source": [
    "import librosa\n",
    "import librosa.display\n",
    "import matplotlib.pyplot as plt\n",
    "import numpy as np\n",
    "import pandas as pd\n",
    "from collections import Counter\n",
    "import seaborn as sns\n",
    "from sklearn.model_selection import train_test_split"
   ]
  },
  {
   "cell_type": "code",
   "execution_count": 2,
   "id": "a3338b23-aeb5-4088-8193-643c15c1cccc",
   "metadata": {},
   "outputs": [],
   "source": [
    "metadata = pd.read_csv('./coughvid_20211012/metadata_compiled.csv')"
   ]
  },
  {
   "cell_type": "code",
   "execution_count": 3,
   "id": "20ebe76d-e7ed-440b-a708-80fd06a89c2a",
   "metadata": {},
   "outputs": [],
   "source": [
    "metadata = metadata[[\"uuid\", \"cough_detected\",\"age\",\"gender\",\"status\"]]"
   ]
  },
  {
   "cell_type": "code",
   "execution_count": 4,
   "id": "07bd5843-0e81-478f-b8a8-1442f002df05",
   "metadata": {},
   "outputs": [],
   "source": [
    "metadata = metadata.dropna()"
   ]
  },
  {
   "cell_type": "code",
   "execution_count": 5,
   "id": "0c09d9f6-7cf3-4393-b575-a38bc5a022ab",
   "metadata": {},
   "outputs": [],
   "source": [
    "# Filter the data with cough_detected below 0.9\n",
    "metadata = metadata[(metadata['cough_detected']>=0.9)]"
   ]
  },
  {
   "cell_type": "code",
   "execution_count": 6,
   "id": "f0bb35eb-3cb5-49df-ba3f-36a170123b99",
   "metadata": {},
   "outputs": [
    {
     "data": {
      "text/html": [
       "<div>\n",
       "<style scoped>\n",
       "    .dataframe tbody tr th:only-of-type {\n",
       "        vertical-align: middle;\n",
       "    }\n",
       "\n",
       "    .dataframe tbody tr th {\n",
       "        vertical-align: top;\n",
       "    }\n",
       "\n",
       "    .dataframe thead th {\n",
       "        text-align: right;\n",
       "    }\n",
       "</style>\n",
       "<table border=\"1\" class=\"dataframe\">\n",
       "  <thead>\n",
       "    <tr style=\"text-align: right;\">\n",
       "      <th></th>\n",
       "      <th>uuid</th>\n",
       "      <th>cough_detected</th>\n",
       "      <th>age</th>\n",
       "      <th>gender</th>\n",
       "      <th>status</th>\n",
       "    </tr>\n",
       "  </thead>\n",
       "  <tbody>\n",
       "    <tr>\n",
       "      <th>1</th>\n",
       "      <td>00039425-7f3a-42aa-ac13-834aaa2b6b92</td>\n",
       "      <td>0.9609</td>\n",
       "      <td>15.0</td>\n",
       "      <td>male</td>\n",
       "      <td>healthy</td>\n",
       "    </tr>\n",
       "    <tr>\n",
       "      <th>4</th>\n",
       "      <td>0009eb28-d8be-4dc1-92bb-907e53bc5c7a</td>\n",
       "      <td>0.9301</td>\n",
       "      <td>34.0</td>\n",
       "      <td>male</td>\n",
       "      <td>healthy</td>\n",
       "    </tr>\n",
       "    <tr>\n",
       "      <th>6</th>\n",
       "      <td>001328dc-ea5d-4847-9ccf-c5aa2a3f2d0f</td>\n",
       "      <td>0.9968</td>\n",
       "      <td>21.0</td>\n",
       "      <td>male</td>\n",
       "      <td>healthy</td>\n",
       "    </tr>\n",
       "    <tr>\n",
       "      <th>13</th>\n",
       "      <td>00291cce-36a0-4a29-9e2d-c1d96ca17242</td>\n",
       "      <td>0.9883</td>\n",
       "      <td>15.0</td>\n",
       "      <td>male</td>\n",
       "      <td>healthy</td>\n",
       "    </tr>\n",
       "    <tr>\n",
       "      <th>14</th>\n",
       "      <td>0029d048-898a-4c70-89c7-0815cdcf7391</td>\n",
       "      <td>0.9456</td>\n",
       "      <td>35.0</td>\n",
       "      <td>male</td>\n",
       "      <td>symptomatic</td>\n",
       "    </tr>\n",
       "    <tr>\n",
       "      <th>...</th>\n",
       "      <td>...</td>\n",
       "      <td>...</td>\n",
       "      <td>...</td>\n",
       "      <td>...</td>\n",
       "      <td>...</td>\n",
       "    </tr>\n",
       "    <tr>\n",
       "      <th>34421</th>\n",
       "      <td>ffe0658f-bade-4654-ad79-40a468aabb03</td>\n",
       "      <td>0.9846</td>\n",
       "      <td>22.0</td>\n",
       "      <td>male</td>\n",
       "      <td>COVID-19</td>\n",
       "    </tr>\n",
       "    <tr>\n",
       "      <th>34422</th>\n",
       "      <td>ffe13fcf-c5c2-4a6a-a9fc-e010f4f033c1</td>\n",
       "      <td>0.9485</td>\n",
       "      <td>31.0</td>\n",
       "      <td>male</td>\n",
       "      <td>symptomatic</td>\n",
       "    </tr>\n",
       "    <tr>\n",
       "      <th>34425</th>\n",
       "      <td>ffedc843-bfc2-4ad6-a749-2bc86bdac84a</td>\n",
       "      <td>0.9498</td>\n",
       "      <td>23.0</td>\n",
       "      <td>male</td>\n",
       "      <td>healthy</td>\n",
       "    </tr>\n",
       "    <tr>\n",
       "      <th>34426</th>\n",
       "      <td>ffeea120-92a4-40f9-b692-c3865c7a983f</td>\n",
       "      <td>0.9784</td>\n",
       "      <td>22.0</td>\n",
       "      <td>female</td>\n",
       "      <td>healthy</td>\n",
       "    </tr>\n",
       "    <tr>\n",
       "      <th>34433</th>\n",
       "      <td>fffd1834-6cf2-4782-bb30-04c31b46a1fe</td>\n",
       "      <td>0.9754</td>\n",
       "      <td>22.0</td>\n",
       "      <td>female</td>\n",
       "      <td>healthy</td>\n",
       "    </tr>\n",
       "  </tbody>\n",
       "</table>\n",
       "<p>10880 rows × 5 columns</p>\n",
       "</div>"
      ],
      "text/plain": [
       "                                       uuid  cough_detected   age  gender  \\\n",
       "1      00039425-7f3a-42aa-ac13-834aaa2b6b92          0.9609  15.0    male   \n",
       "4      0009eb28-d8be-4dc1-92bb-907e53bc5c7a          0.9301  34.0    male   \n",
       "6      001328dc-ea5d-4847-9ccf-c5aa2a3f2d0f          0.9968  21.0    male   \n",
       "13     00291cce-36a0-4a29-9e2d-c1d96ca17242          0.9883  15.0    male   \n",
       "14     0029d048-898a-4c70-89c7-0815cdcf7391          0.9456  35.0    male   \n",
       "...                                     ...             ...   ...     ...   \n",
       "34421  ffe0658f-bade-4654-ad79-40a468aabb03          0.9846  22.0    male   \n",
       "34422  ffe13fcf-c5c2-4a6a-a9fc-e010f4f033c1          0.9485  31.0    male   \n",
       "34425  ffedc843-bfc2-4ad6-a749-2bc86bdac84a          0.9498  23.0    male   \n",
       "34426  ffeea120-92a4-40f9-b692-c3865c7a983f          0.9784  22.0  female   \n",
       "34433  fffd1834-6cf2-4782-bb30-04c31b46a1fe          0.9754  22.0  female   \n",
       "\n",
       "            status  \n",
       "1          healthy  \n",
       "4          healthy  \n",
       "6          healthy  \n",
       "13         healthy  \n",
       "14     symptomatic  \n",
       "...            ...  \n",
       "34421     COVID-19  \n",
       "34422  symptomatic  \n",
       "34425      healthy  \n",
       "34426      healthy  \n",
       "34433      healthy  \n",
       "\n",
       "[10880 rows x 5 columns]"
      ]
     },
     "execution_count": 6,
     "metadata": {},
     "output_type": "execute_result"
    }
   ],
   "source": [
    "metadata"
   ]
  },
  {
   "cell_type": "code",
   "execution_count": 7,
   "id": "2da3d3b4-92fd-4bef-b6e6-ff3ad29096f2",
   "metadata": {},
   "outputs": [],
   "source": [
    "# Divided the age into 4 groups: <=20, 20-40, 40-60, >60\n",
    "def age_classify(age):\n",
    "    if age <= 20:\n",
    "        return \"<=20\"\n",
    "    elif age <= 40:\n",
    "        return \"20-40\"\n",
    "    elif age <= 60:\n",
    "        return \"40-60\"\n",
    "    else:\n",
    "        return \">60\"\n",
    "metadata[\"age\"] = metadata[\"age\"].map(age_classify)"
   ]
  },
  {
   "cell_type": "code",
   "execution_count": 8,
   "id": "c2b7d3a4-3e9a-4703-97f2-7a7c284aad4d",
   "metadata": {},
   "outputs": [
    {
     "data": {
      "text/plain": [
       "<AxesSubplot:xlabel='status', ylabel='count'>"
      ]
     },
     "execution_count": 8,
     "metadata": {},
     "output_type": "execute_result"
    },
    {
     "data": {
      "image/png": "[encoded data removed]",
      "text/plain": [
       "<Figure size 432x288 with 1 Axes>"
      ]
     },
     "metadata": {
      "needs_background": "light"
     },
     "output_type": "display_data"
    }
   ],
   "source": [
    "# As the original dataset is imbalanced, we have to make a more balanced dataset. \n",
    "sns.countplot(x=metadata[\"status\"])"
   ]
  },
  {
   "cell_type": "code",
   "execution_count": 9,
   "id": "e91f92a0-abaa-4285-a46c-ed96e19e66c3",
   "metadata": {},
   "outputs": [],
   "source": [
    "# balance the dataset\n",
    "# randomly choose 519 from healthy and symptomatic\n",
    "COVID_data = metadata[(metadata['status']=='COVID-19')]\n",
    "sampleN = len(COVID_data)\n",
    "healthy_data = metadata[(metadata['status']=='healthy')].sample(n=sampleN)\n",
    "symptomatic_data = metadata[(metadata['status']=='symptomatic')].sample(n=sampleN)"
   ]
  },
  {
   "cell_type": "code",
   "execution_count": 10,
   "id": "3a0d69b0-1152-41de-80c8-05f1cf922591",
   "metadata": {},
   "outputs": [],
   "source": [
    "COVID_data_train, COVID_data_test = train_test_split(COVID_data,test_size=0.1)\n",
    "COVID_data_train, COVID_data_val = train_test_split(COVID_data_train,test_size=0.11)\n",
    "healthy_data_train, healthy_data_test = train_test_split(healthy_data,test_size=0.1)\n",
    "healthy_data_train, healthy_data_val = train_test_split(healthy_data_train,test_size=0.11)\n",
    "symptomatic_data_train, symptomatic_data_test = train_test_split(symptomatic_data,test_size=0.1)\n",
    "symptomatic_data_train, symptomatic_data_val = train_test_split(symptomatic_data_train,test_size=0.11)"
   ]
  },
  {
   "cell_type": "code",
   "execution_count": 14,
   "id": "2899aef7-2a66-47be-812d-e0113441225d",
   "metadata": {},
   "outputs": [
    {
     "data": {
      "text/html": [
       "<div>\n",
       "<style scoped>\n",
       "    .dataframe tbody tr th:only-of-type {\n",
       "        vertical-align: middle;\n",
       "    }\n",
       "\n",
       "    .dataframe tbody tr th {\n",
       "        vertical-align: top;\n",
       "    }\n",
       "\n",
       "    .dataframe thead th {\n",
       "        text-align: right;\n",
       "    }\n",
       "</style>\n",
       "<table border=\"1\" class=\"dataframe\">\n",
       "  <thead>\n",
       "    <tr style=\"text-align: right;\">\n",
       "      <th></th>\n",
       "      <th>uuid</th>\n",
       "      <th>cough_detected</th>\n",
       "      <th>age</th>\n",
       "      <th>gender</th>\n",
       "      <th>status</th>\n",
       "    </tr>\n",
       "  </thead>\n",
       "  <tbody>\n",
       "    <tr>\n",
       "      <th>9731</th>\n",
       "      <td>48012a40-d81e-45a6-a48c-3829cfa4cb02</td>\n",
       "      <td>0.9796</td>\n",
       "      <td>40-60</td>\n",
       "      <td>female</td>\n",
       "      <td>healthy</td>\n",
       "    </tr>\n",
       "    <tr>\n",
       "      <th>24947</th>\n",
       "      <td>b9e06a23-d76b-4164-b39a-64cd753a3c56</td>\n",
       "      <td>0.9940</td>\n",
       "      <td>40-60</td>\n",
       "      <td>female</td>\n",
       "      <td>COVID-19</td>\n",
       "    </tr>\n",
       "    <tr>\n",
       "      <th>26914</th>\n",
       "      <td>c87e1979-9259-4876-a5e0-318d27423f82</td>\n",
       "      <td>0.9151</td>\n",
       "      <td>20-40</td>\n",
       "      <td>male</td>\n",
       "      <td>healthy</td>\n",
       "    </tr>\n",
       "    <tr>\n",
       "      <th>23535</th>\n",
       "      <td>afab213c-22d5-476f-a97b-96b35c5db3ac</td>\n",
       "      <td>0.9886</td>\n",
       "      <td>20-40</td>\n",
       "      <td>female</td>\n",
       "      <td>symptomatic</td>\n",
       "    </tr>\n",
       "    <tr>\n",
       "      <th>15589</th>\n",
       "      <td>731cbe07-5754-46cf-bb5c-873a670cd5d7</td>\n",
       "      <td>0.9764</td>\n",
       "      <td>20-40</td>\n",
       "      <td>male</td>\n",
       "      <td>COVID-19</td>\n",
       "    </tr>\n",
       "    <tr>\n",
       "      <th>...</th>\n",
       "      <td>...</td>\n",
       "      <td>...</td>\n",
       "      <td>...</td>\n",
       "      <td>...</td>\n",
       "      <td>...</td>\n",
       "    </tr>\n",
       "    <tr>\n",
       "      <th>6469</th>\n",
       "      <td>304ace3b-e04a-4e5a-8738-a78808c2fda5</td>\n",
       "      <td>0.9948</td>\n",
       "      <td>&lt;=20</td>\n",
       "      <td>male</td>\n",
       "      <td>healthy</td>\n",
       "    </tr>\n",
       "    <tr>\n",
       "      <th>3716</th>\n",
       "      <td>1b84e858-d85a-443b-8839-674426922147</td>\n",
       "      <td>0.9850</td>\n",
       "      <td>20-40</td>\n",
       "      <td>female</td>\n",
       "      <td>symptomatic</td>\n",
       "    </tr>\n",
       "    <tr>\n",
       "      <th>11955</th>\n",
       "      <td>58cb0acc-e886-4ead-8b88-fdb12059b5cc</td>\n",
       "      <td>0.9645</td>\n",
       "      <td>&lt;=20</td>\n",
       "      <td>male</td>\n",
       "      <td>symptomatic</td>\n",
       "    </tr>\n",
       "    <tr>\n",
       "      <th>3931</th>\n",
       "      <td>1d3efa17-4f8b-48ef-9dd8-47ac6b0247f7</td>\n",
       "      <td>0.9907</td>\n",
       "      <td>20-40</td>\n",
       "      <td>male</td>\n",
       "      <td>healthy</td>\n",
       "    </tr>\n",
       "    <tr>\n",
       "      <th>26205</th>\n",
       "      <td>c34d6285-a7d7-4357-9036-cb4a5caec6f6</td>\n",
       "      <td>0.9931</td>\n",
       "      <td>40-60</td>\n",
       "      <td>male</td>\n",
       "      <td>COVID-19</td>\n",
       "    </tr>\n",
       "  </tbody>\n",
       "</table>\n",
       "<p>1245 rows × 5 columns</p>\n",
       "</div>"
      ],
      "text/plain": [
       "                                       uuid  cough_detected    age  gender  \\\n",
       "9731   48012a40-d81e-45a6-a48c-3829cfa4cb02          0.9796  40-60  female   \n",
       "24947  b9e06a23-d76b-4164-b39a-64cd753a3c56          0.9940  40-60  female   \n",
       "26914  c87e1979-9259-4876-a5e0-318d27423f82          0.9151  20-40    male   \n",
       "23535  afab213c-22d5-476f-a97b-96b35c5db3ac          0.9886  20-40  female   \n",
       "15589  731cbe07-5754-46cf-bb5c-873a670cd5d7          0.9764  20-40    male   \n",
       "...                                     ...             ...    ...     ...   \n",
       "6469   304ace3b-e04a-4e5a-8738-a78808c2fda5          0.9948   <=20    male   \n",
       "3716   1b84e858-d85a-443b-8839-674426922147          0.9850  20-40  female   \n",
       "11955  58cb0acc-e886-4ead-8b88-fdb12059b5cc          0.9645   <=20    male   \n",
       "3931   1d3efa17-4f8b-48ef-9dd8-47ac6b0247f7          0.9907  20-40    male   \n",
       "26205  c34d6285-a7d7-4357-9036-cb4a5caec6f6          0.9931  40-60    male   \n",
       "\n",
       "            status  \n",
       "9731       healthy  \n",
       "24947     COVID-19  \n",
       "26914      healthy  \n",
       "23535  symptomatic  \n",
       "15589     COVID-19  \n",
       "...            ...  \n",
       "6469       healthy  \n",
       "3716   symptomatic  \n",
       "11955  symptomatic  \n",
       "3931       healthy  \n",
       "26205     COVID-19  \n",
       "\n",
       "[1245 rows x 5 columns]"
      ]
     },
     "execution_count": 14,
     "metadata": {},
     "output_type": "execute_result"
    }
   ],
   "source": [
    "metadata_balanced_train = pd.concat([COVID_data_train, healthy_data_train, symptomatic_data_train]).sample(frac=1)\n",
    "metadata_balanced_train"
   ]
  },
  {
   "cell_type": "code",
   "execution_count": 15,
   "id": "28361663-d3fc-44fb-9ff8-5f1c5e4d4919",
   "metadata": {},
   "outputs": [
    {
     "data": {
      "text/html": [
       "<div>\n",
       "<style scoped>\n",
       "    .dataframe tbody tr th:only-of-type {\n",
       "        vertical-align: middle;\n",
       "    }\n",
       "\n",
       "    .dataframe tbody tr th {\n",
       "        vertical-align: top;\n",
       "    }\n",
       "\n",
       "    .dataframe thead th {\n",
       "        text-align: right;\n",
       "    }\n",
       "</style>\n",
       "<table border=\"1\" class=\"dataframe\">\n",
       "  <thead>\n",
       "    <tr style=\"text-align: right;\">\n",
       "      <th></th>\n",
       "      <th>uuid</th>\n",
       "      <th>cough_detected</th>\n",
       "      <th>age</th>\n",
       "      <th>gender</th>\n",
       "      <th>status</th>\n",
       "    </tr>\n",
       "  </thead>\n",
       "  <tbody>\n",
       "    <tr>\n",
       "      <th>27426</th>\n",
       "      <td>cc5b8aa6-355a-4f4c-bc88-4f1d5bafc5ad</td>\n",
       "      <td>0.9968</td>\n",
       "      <td>40-60</td>\n",
       "      <td>female</td>\n",
       "      <td>COVID-19</td>\n",
       "    </tr>\n",
       "    <tr>\n",
       "      <th>10734</th>\n",
       "      <td>4fa3ac8d-f252-40d6-bccd-24aa5e35556c</td>\n",
       "      <td>0.9437</td>\n",
       "      <td>40-60</td>\n",
       "      <td>male</td>\n",
       "      <td>COVID-19</td>\n",
       "    </tr>\n",
       "    <tr>\n",
       "      <th>22080</th>\n",
       "      <td>a49d942a-331a-49b5-b755-8659a12fac07</td>\n",
       "      <td>0.9954</td>\n",
       "      <td>&lt;=20</td>\n",
       "      <td>female</td>\n",
       "      <td>COVID-19</td>\n",
       "    </tr>\n",
       "    <tr>\n",
       "      <th>20760</th>\n",
       "      <td>9a80a95e-6d74-4d45-bfd0-62c3eb40471a</td>\n",
       "      <td>0.9737</td>\n",
       "      <td>40-60</td>\n",
       "      <td>male</td>\n",
       "      <td>symptomatic</td>\n",
       "    </tr>\n",
       "    <tr>\n",
       "      <th>16386</th>\n",
       "      <td>795fa843-bdc4-418d-bef0-20c55c67ab4b</td>\n",
       "      <td>0.9457</td>\n",
       "      <td>40-60</td>\n",
       "      <td>female</td>\n",
       "      <td>healthy</td>\n",
       "    </tr>\n",
       "    <tr>\n",
       "      <th>...</th>\n",
       "      <td>...</td>\n",
       "      <td>...</td>\n",
       "      <td>...</td>\n",
       "      <td>...</td>\n",
       "      <td>...</td>\n",
       "    </tr>\n",
       "    <tr>\n",
       "      <th>23850</th>\n",
       "      <td>b1dea582-3eab-4dba-b8da-301009ae600b</td>\n",
       "      <td>0.9699</td>\n",
       "      <td>20-40</td>\n",
       "      <td>male</td>\n",
       "      <td>healthy</td>\n",
       "    </tr>\n",
       "    <tr>\n",
       "      <th>30671</th>\n",
       "      <td>e433d5e8-d327-4298-ae3c-a14de775e031</td>\n",
       "      <td>0.9631</td>\n",
       "      <td>&lt;=20</td>\n",
       "      <td>male</td>\n",
       "      <td>symptomatic</td>\n",
       "    </tr>\n",
       "    <tr>\n",
       "      <th>32038</th>\n",
       "      <td>ee675fea-3d85-4c06-acec-3c69d26986e7</td>\n",
       "      <td>0.9871</td>\n",
       "      <td>40-60</td>\n",
       "      <td>male</td>\n",
       "      <td>COVID-19</td>\n",
       "    </tr>\n",
       "    <tr>\n",
       "      <th>19633</th>\n",
       "      <td>92307087-a106-4fd5-919a-a92b57ffd316</td>\n",
       "      <td>0.9974</td>\n",
       "      <td>40-60</td>\n",
       "      <td>male</td>\n",
       "      <td>COVID-19</td>\n",
       "    </tr>\n",
       "    <tr>\n",
       "      <th>9236</th>\n",
       "      <td>44709e68-6b18-44e4-90d8-f573644894eb</td>\n",
       "      <td>0.9959</td>\n",
       "      <td>40-60</td>\n",
       "      <td>female</td>\n",
       "      <td>healthy</td>\n",
       "    </tr>\n",
       "  </tbody>\n",
       "</table>\n",
       "<p>156 rows × 5 columns</p>\n",
       "</div>"
      ],
      "text/plain": [
       "                                       uuid  cough_detected    age  gender  \\\n",
       "27426  cc5b8aa6-355a-4f4c-bc88-4f1d5bafc5ad          0.9968  40-60  female   \n",
       "10734  4fa3ac8d-f252-40d6-bccd-24aa5e35556c          0.9437  40-60    male   \n",
       "22080  a49d942a-331a-49b5-b755-8659a12fac07          0.9954   <=20  female   \n",
       "20760  9a80a95e-6d74-4d45-bfd0-62c3eb40471a          0.9737  40-60    male   \n",
       "16386  795fa843-bdc4-418d-bef0-20c55c67ab4b          0.9457  40-60  female   \n",
       "...                                     ...             ...    ...     ...   \n",
       "23850  b1dea582-3eab-4dba-b8da-301009ae600b          0.9699  20-40    male   \n",
       "30671  e433d5e8-d327-4298-ae3c-a14de775e031          0.9631   <=20    male   \n",
       "32038  ee675fea-3d85-4c06-acec-3c69d26986e7          0.9871  40-60    male   \n",
       "19633  92307087-a106-4fd5-919a-a92b57ffd316          0.9974  40-60    male   \n",
       "9236   44709e68-6b18-44e4-90d8-f573644894eb          0.9959  40-60  female   \n",
       "\n",
       "            status  \n",
       "27426     COVID-19  \n",
       "10734     COVID-19  \n",
       "22080     COVID-19  \n",
       "20760  symptomatic  \n",
       "16386      healthy  \n",
       "...            ...  \n",
       "23850      healthy  \n",
       "30671  symptomatic  \n",
       "32038     COVID-19  \n",
       "19633     COVID-19  \n",
       "9236       healthy  \n",
       "\n",
       "[156 rows x 5 columns]"
      ]
     },
     "execution_count": 15,
     "metadata": {},
     "output_type": "execute_result"
    }
   ],
   "source": [
    "metadata_balanced_val = pd.concat([COVID_data_val, healthy_data_val, symptomatic_data_val]).sample(frac=1)\n",
    "metadata_balanced_val"
   ]
  },
  {
   "cell_type": "code",
   "execution_count": 16,
   "id": "95005ba9-52db-44ed-8235-be747a6e3e6d",
   "metadata": {},
   "outputs": [
    {
     "data": {
      "text/html": [
       "<div>\n",
       "<style scoped>\n",
       "    .dataframe tbody tr th:only-of-type {\n",
       "        vertical-align: middle;\n",
       "    }\n",
       "\n",
       "    .dataframe tbody tr th {\n",
       "        vertical-align: top;\n",
       "    }\n",
       "\n",
       "    .dataframe thead th {\n",
       "        text-align: right;\n",
       "    }\n",
       "</style>\n",
       "<table border=\"1\" class=\"dataframe\">\n",
       "  <thead>\n",
       "    <tr style=\"text-align: right;\">\n",
       "      <th></th>\n",
       "      <th>uuid</th>\n",
       "      <th>cough_detected</th>\n",
       "      <th>age</th>\n",
       "      <th>gender</th>\n",
       "      <th>status</th>\n",
       "    </tr>\n",
       "  </thead>\n",
       "  <tbody>\n",
       "    <tr>\n",
       "      <th>29741</th>\n",
       "      <td>dd489c88-affc-4142-ac56-752c3a433991</td>\n",
       "      <td>0.9453</td>\n",
       "      <td>&gt;60</td>\n",
       "      <td>male</td>\n",
       "      <td>COVID-19</td>\n",
       "    </tr>\n",
       "    <tr>\n",
       "      <th>23369</th>\n",
       "      <td>ae5dcf74-bf11-47a3-b0d6-c668a0794d8a</td>\n",
       "      <td>0.9210</td>\n",
       "      <td>20-40</td>\n",
       "      <td>male</td>\n",
       "      <td>COVID-19</td>\n",
       "    </tr>\n",
       "    <tr>\n",
       "      <th>25512</th>\n",
       "      <td>be166309-e053-4435-9095-f282c841bbdb</td>\n",
       "      <td>0.9401</td>\n",
       "      <td>40-60</td>\n",
       "      <td>male</td>\n",
       "      <td>healthy</td>\n",
       "    </tr>\n",
       "    <tr>\n",
       "      <th>33198</th>\n",
       "      <td>f6cf1903-b1a6-4420-9eb9-839f5dcadb44</td>\n",
       "      <td>0.9252</td>\n",
       "      <td>40-60</td>\n",
       "      <td>male</td>\n",
       "      <td>healthy</td>\n",
       "    </tr>\n",
       "    <tr>\n",
       "      <th>33261</th>\n",
       "      <td>f7380760-c4d0-4c8d-ac8a-fbbd838aaeb9</td>\n",
       "      <td>0.9962</td>\n",
       "      <td>20-40</td>\n",
       "      <td>female</td>\n",
       "      <td>symptomatic</td>\n",
       "    </tr>\n",
       "    <tr>\n",
       "      <th>...</th>\n",
       "      <td>...</td>\n",
       "      <td>...</td>\n",
       "      <td>...</td>\n",
       "      <td>...</td>\n",
       "      <td>...</td>\n",
       "    </tr>\n",
       "    <tr>\n",
       "      <th>27108</th>\n",
       "      <td>c9d68f80-c9ee-4cb3-885b-f4f46fa1c8bd</td>\n",
       "      <td>0.9406</td>\n",
       "      <td>&gt;60</td>\n",
       "      <td>female</td>\n",
       "      <td>COVID-19</td>\n",
       "    </tr>\n",
       "    <tr>\n",
       "      <th>6025</th>\n",
       "      <td>2d0e2aae-1c8c-4353-933f-f8b15f304a39</td>\n",
       "      <td>0.9802</td>\n",
       "      <td>20-40</td>\n",
       "      <td>female</td>\n",
       "      <td>healthy</td>\n",
       "    </tr>\n",
       "    <tr>\n",
       "      <th>19368</th>\n",
       "      <td>9031d3b2-4019-403f-9c71-f387e6b60a82</td>\n",
       "      <td>0.9874</td>\n",
       "      <td>20-40</td>\n",
       "      <td>female</td>\n",
       "      <td>COVID-19</td>\n",
       "    </tr>\n",
       "    <tr>\n",
       "      <th>22923</th>\n",
       "      <td>ab0eaab9-6e82-4c5a-94f1-0bd73c6821c1</td>\n",
       "      <td>0.9449</td>\n",
       "      <td>40-60</td>\n",
       "      <td>male</td>\n",
       "      <td>healthy</td>\n",
       "    </tr>\n",
       "    <tr>\n",
       "      <th>15113</th>\n",
       "      <td>6fe0c2e7-872a-48a5-bb77-5900389c5eb4</td>\n",
       "      <td>0.9859</td>\n",
       "      <td>20-40</td>\n",
       "      <td>male</td>\n",
       "      <td>COVID-19</td>\n",
       "    </tr>\n",
       "  </tbody>\n",
       "</table>\n",
       "<p>156 rows × 5 columns</p>\n",
       "</div>"
      ],
      "text/plain": [
       "                                       uuid  cough_detected    age  gender  \\\n",
       "29741  dd489c88-affc-4142-ac56-752c3a433991          0.9453    >60    male   \n",
       "23369  ae5dcf74-bf11-47a3-b0d6-c668a0794d8a          0.9210  20-40    male   \n",
       "25512  be166309-e053-4435-9095-f282c841bbdb          0.9401  40-60    male   \n",
       "33198  f6cf1903-b1a6-4420-9eb9-839f5dcadb44          0.9252  40-60    male   \n",
       "33261  f7380760-c4d0-4c8d-ac8a-fbbd838aaeb9          0.9962  20-40  female   \n",
       "...                                     ...             ...    ...     ...   \n",
       "27108  c9d68f80-c9ee-4cb3-885b-f4f46fa1c8bd          0.9406    >60  female   \n",
       "6025   2d0e2aae-1c8c-4353-933f-f8b15f304a39          0.9802  20-40  female   \n",
       "19368  9031d3b2-4019-403f-9c71-f387e6b60a82          0.9874  20-40  female   \n",
       "22923  ab0eaab9-6e82-4c5a-94f1-0bd73c6821c1          0.9449  40-60    male   \n",
       "15113  6fe0c2e7-872a-48a5-bb77-5900389c5eb4          0.9859  20-40    male   \n",
       "\n",
       "            status  \n",
       "29741     COVID-19  \n",
       "23369     COVID-19  \n",
       "25512      healthy  \n",
       "33198      healthy  \n",
       "33261  symptomatic  \n",
       "...            ...  \n",
       "27108     COVID-19  \n",
       "6025       healthy  \n",
       "19368     COVID-19  \n",
       "22923      healthy  \n",
       "15113     COVID-19  \n",
       "\n",
       "[156 rows x 5 columns]"
      ]
     },
     "execution_count": 16,
     "metadata": {},
     "output_type": "execute_result"
    }
   ],
   "source": [
    "metadata_balanced_test = pd.concat([COVID_data_test, healthy_data_test, symptomatic_data_test]).sample(frac=1)\n",
    "metadata_balanced_test"
   ]
  },
  {
   "cell_type": "code",
   "execution_count": 22,
   "id": "315fb8bb-789d-4a1f-a13c-67dfab978565",
   "metadata": {},
   "outputs": [
    {
     "data": {
      "text/plain": [
       "<AxesSubplot:xlabel='age', ylabel='count'>"
      ]
     },
     "execution_count": 22,
     "metadata": {},
     "output_type": "execute_result"
    },
    {
     "data": {
      "image/png": "[encoded data removed]",
      "text/plain": [
       "<Figure size 432x288 with 1 Axes>"
      ]
     },
     "metadata": {
      "needs_background": "light"
     },
     "output_type": "display_data"
    }
   ],
   "source": [
    "sns.countplot(x=metadata_balanced_train[\"age\"])"
   ]
  },
  {
   "cell_type": "code",
   "execution_count": 23,
   "id": "e466cd61-70d7-46a0-8ffc-8ccd79c94cf7",
   "metadata": {},
   "outputs": [
    {
     "data": {
      "text/plain": [
       "<AxesSubplot:xlabel='age', ylabel='count'>"
      ]
     },
     "execution_count": 23,
     "metadata": {},
     "output_type": "execute_result"
    },
    {
     "data": {
      "image/png": "[encoded data removed]",
      "text/plain": [
       "<Figure size 432x288 with 1 Axes>"
      ]
     },
     "metadata": {
      "needs_background": "light"
     },
     "output_type": "display_data"
    }
   ],
   "source": [
    "sns.countplot(x=metadata_balanced_val[\"age\"])"
   ]
  },
  {
   "cell_type": "code",
   "execution_count": 24,
   "id": "84766ed7-70f5-44c9-b90b-850dad1fec73",
   "metadata": {},
   "outputs": [
    {
     "data": {
      "text/plain": [
       "<AxesSubplot:xlabel='age', ylabel='count'>"
      ]
     },
     "execution_count": 24,
     "metadata": {},
     "output_type": "execute_result"
    },
    {
     "data": {
      "image/png": "[encoded data removed]",
      "text/plain": [
       "<Figure size 432x288 with 1 Axes>"
      ]
     },
     "metadata": {
      "needs_background": "light"
     },
     "output_type": "display_data"
    }
   ],
   "source": [
    "sns.countplot(x=metadata_balanced_test[\"age\"])"
   ]
  },
  {
   "cell_type": "code",
   "execution_count": 20,
   "id": "5757fc38-e40a-4135-82cd-b691009f0224",
   "metadata": {},
   "outputs": [
    {
     "data": {
      "text/plain": [
       "<AxesSubplot:xlabel='age', ylabel='count'>"
      ]
     },
     "execution_count": 20,
     "metadata": {},
     "output_type": "execute_result"
    },
    {
     "data": {
      "image/png": "[encoded data removed]",
      "text/plain": [
       "<Figure size 432x288 with 1 Axes>"
      ]
     },
     "metadata": {
      "needs_background": "light"
     },
     "output_type": "display_data"
    }
   ],
   "source": [
    "sns.countplot(x=metadata_balanced_train[\"age\"])"
   ]
  },
  {
   "cell_type": "code",
   "execution_count": 21,
   "id": "bef79321-eb29-4e79-9f71-5e517212a2b0",
   "metadata": {},
   "outputs": [
    {
     "data": {
      "text/plain": [
       "<AxesSubplot:xlabel='gender', ylabel='count'>"
      ]
     },
     "execution_count": 21,
     "metadata": {},
     "output_type": "execute_result"
    },
    {
     "data": {
      "image/png": "[encoded data removed]",
      "text/plain": [
       "<Figure size 432x288 with 1 Axes>"
      ]
     },
     "metadata": {
      "needs_background": "light"
     },
     "output_type": "display_data"
    }
   ],
   "source": [
    "sns.countplot(x=metadata_balanced_test[\"gender\"])"
   ]
  },
  {
   "cell_type": "code",
   "execution_count": 26,
   "id": "01af3fb1-3e78-40a4-9fe6-ca4858b028c1",
   "metadata": {},
   "outputs": [],
   "source": [
    "# save the new metadata file\n",
    "metadata_balanced_train.to_csv('./coughvid_20211012/metadata_balanced_train.csv')\n",
    "metadata_balanced_val.to_csv('./coughvid_20211012/metadata_balanced_val.csv')\n",
    "metadata_balanced_test.to_csv('./coughvid_20211012/metadata_balanced_test.csv')  "
   ]
  }
 ],
 "metadata": {
  "kernelspec": {
   "display_name": "Python 3",
   "language": "python",
   "name": "python3"
  },
  "language_info": {
   "codemirror_mode": {
    "name": "ipython",
    "version": 3
   },
   "file_extension": ".py",
   "mimetype": "text/x-python",
   "name": "python",
   "nbconvert_exporter": "python",
   "pygments_lexer": "ipython3",
   "version": "3.8.8"
  }
 },
 "nbformat": 4,
 "nbformat_minor": 5
}
